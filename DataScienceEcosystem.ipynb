{
  "nbformat": 4,
  "nbformat_minor": 0,
  "metadata": {
    "colab": {
      "provenance": []
    },
    "kernelspec": {
      "name": "python3",
      "display_name": "Python 3"
    },
    "language_info": {
      "name": "python"
    }
  },
  "cells": [
    {
      "cell_type": "markdown",
      "source": [
        "#Outils et écosystème de la science des données"
      ],
      "metadata": {
        "id": "8nPUXCFi1y3v"
      }
    },
    {
      "cell_type": "markdown",
      "source": [
        "Dans ce notebook, les outils et l'écosystème de la science des données sont résumés."
      ],
      "metadata": {
        "id": "8NWUoZzV2IiH"
      }
    },
    {
      "cell_type": "markdown",
      "source": [
        "**Objectifs :**\n",
        "*   Lister les langages populaires pour la science des données\n",
        "*   Lister les outils pour la science des données\n",
        "*   Executer un bloc de code"
      ],
      "metadata": {
        "id": "59c1jiLt5ULq"
      }
    },
    {
      "cell_type": "markdown",
      "source": [
        "Certains des langages populaires que les scientifiques des données utilisent sont :\n",
        "\n",
        "\n",
        "1.   Python\n",
        "2.   R\n",
        "3.   Java\n",
        "\n"
      ],
      "metadata": {
        "id": "fiqXaSt12XlS"
      }
    },
    {
      "cell_type": "markdown",
      "source": [
        "Certaines des bibliothèques couramment utilisées par les scientifiques des données incluent :\n",
        "\n",
        "\n",
        "1.   Numpy\n",
        "2.   Scikitlearn\n",
        "3.   ggplot\n",
        "\n",
        "\n"
      ],
      "metadata": {
        "id": "v0ePqr0o2sGK"
      }
    },
    {
      "cell_type": "markdown",
      "source": [
        "|Jupyter Notebook|RStudio|Github|\n",
        "|---|---|---|"
      ],
      "metadata": {
        "id": "VbG53fLU3Ax-"
      }
    },
    {
      "cell_type": "markdown",
      "source": [
        "###Voici quelques exemples d'évaluation d'expressions arithmétiques en Python"
      ],
      "metadata": {
        "id": "2r-3Droq4M3g"
      }
    },
    {
      "cell_type": "code",
      "source": [
        "(3*4)+5\n",
        "#Ceci est une simple expression arithmétique pour multiplier puis additionner des entiers"
      ],
      "metadata": {
        "colab": {
          "base_uri": "https://localhost:8080/"
        },
        "id": "-qgZrzUU4iSx",
        "outputId": "a38e9717-7ac2-48a4-d247-54ede8b934b1"
      },
      "execution_count": 1,
      "outputs": [
        {
          "output_type": "execute_result",
          "data": {
            "text/plain": [
              "17"
            ]
          },
          "metadata": {},
          "execution_count": 1
        }
      ]
    },
    {
      "cell_type": "code",
      "source": [
        "200//60\n",
        "#Cela convertira 200 minutes en heures en divisant par 60"
      ],
      "metadata": {
        "colab": {
          "base_uri": "https://localhost:8080/"
        },
        "id": "AgAX36E_4xd9",
        "outputId": "9bcf535e-f0bd-4498-d7a0-355f2f2df4a7"
      },
      "execution_count": 5,
      "outputs": [
        {
          "output_type": "execute_result",
          "data": {
            "text/plain": [
              "3"
            ]
          },
          "metadata": {},
          "execution_count": 5
        }
      ]
    },
    {
      "cell_type": "markdown",
      "source": [
        "##Auteur\n",
        "Mamadou NDIAGNE"
      ],
      "metadata": {
        "id": "pktd2XK96A6T"
      }
    }
  ]
}